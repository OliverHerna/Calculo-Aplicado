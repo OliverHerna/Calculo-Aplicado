{
 "cells": [
  {
   "cell_type": "code",
   "execution_count": 6,
   "metadata": {},
   "outputs": [
    {
     "name": "stdout",
     "output_type": "stream",
     "text": [
      "JPEG\n",
      "RGB\n",
      "(1280, 720)\n"
     ]
    }
   ],
   "source": [
    "from PIL import Image\n",
    "\n",
    "#instancia de una nueva imagen, con el nombre de la variable igual a imagen\n",
    "imagen = Image.open(\"muse.jpg\")\n",
    "\n",
    "#imprimir formato\n",
    "print(imagen.format)\n",
    "\n",
    "#imprimir modo (colores)\n",
    "print(imagen.mode)\n",
    "\n",
    "#imprimir medidas\n",
    "print(imagen.size)\n",
    "\n",
    "#imprimir imagen\n",
    "imagen.show()"
   ]
  }
 ],
 "metadata": {
  "kernelspec": {
   "display_name": "Python 3",
   "language": "python",
   "name": "python3"
  },
  "language_info": {
   "codemirror_mode": {
    "name": "ipython",
    "version": 3
   },
   "file_extension": ".py",
   "mimetype": "text/x-python",
   "name": "python",
   "nbconvert_exporter": "python",
   "pygments_lexer": "ipython3",
   "version": "3.7.7"
  }
 },
 "nbformat": 4,
 "nbformat_minor": 4
}
